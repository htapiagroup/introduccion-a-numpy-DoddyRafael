{
  "nbformat": 4,
  "nbformat_minor": 0,
  "metadata": {
    "anaconda-cloud": {},
    "kernelspec": {
      "display_name": "Python 2",
      "language": "python",
      "name": "python2"
    },
    "language_info": {
      "codemirror_mode": {
        "name": "ipython",
        "version": 2
      },
      "file_extension": ".py",
      "mimetype": "text/x-python",
      "name": "python",
      "nbconvert_exporter": "python",
      "pygments_lexer": "ipython2",
      "version": "2.7.15"
    },
    "colab": {
      "name": "01.03-Computation-on-arrays-ufuncs.ipynb",
      "provenance": []
    }
  },
  "cells": [
    {
      "cell_type": "markdown",
      "metadata": {
        "id": "E-BcA6Mdfl6I",
        "colab_type": "text"
      },
      "source": [
        "<!--BOOK_INFORMATION-->\n",
        "<img align=\"left\" style=\"padding-right:10px;\" src=\"https://github.com/htapia/TallerPythonIntroCienciaDatos/blob/master/notebooks/figures/header_small.png?raw=1\">\n",
        "\n",
        "*Esta libreta contiene material del Taller de Python que se lleva a cabo como parte del \n",
        "evento [Data Challenge Industrial 4.0](www.lania.mx/dci). El contenido ha sido adaptado \n",
        "por HTM y GED a partir del libro [Python Data Science Handbook](http://shop.oreilly.com/product/0636920034919.do) \n",
        "de Jake VanderPlas y se mantiene la licencia sobre el texto, \n",
        "[CC-BY-NC-ND license](https://creativecommons.org/licenses/by-nc-nd/3.0/us/legalcode), \n",
        "y sobre el codigo [MIT license](https://opensource.org/licenses/MIT).*"
      ]
    },
    {
      "cell_type": "markdown",
      "metadata": {
        "id": "ST5qSCiyfl6N",
        "colab_type": "text"
      },
      "source": [
        "<!--NAVIGATION-->\n",
        "< [Basicos de NumPy: arreglos](01.02-The-Basics-Of-NumPy-Arrays.ipynb) | [Contenido](Index.ipynb) | [Agregaciones: Min, Max, etc.](01.04-Computation-on-arrays-aggregates.ipynb) >\n",
        "\n",
        "<a href=\"https://colab.research.google.com/github/htapia/TallerPythonIntroCienciaDatos/blob/master/notebooks/01.03-Computation-on-arrays-ufuncs.ipynb\"><img align=\"left\" src=\"https://colab.research.google.com/assets/colab-badge.svg\" alt=\"Open in Colab\" title=\"Open and Execute in Google Colaboratory\"></a>\n"
      ]
    },
    {
      "cell_type": "markdown",
      "metadata": {
        "id": "ho7iz4Jjfl6O",
        "colab_type": "text"
      },
      "source": [
        "# Cálculos con Arrays 1. Ufuncs"
      ]
    },
    {
      "cell_type": "markdown",
      "metadata": {
        "id": "lQQH3tPUfl6R",
        "colab_type": "text"
      },
      "source": [
        "## Los Loops son Lentooosss"
      ]
    },
    {
      "cell_type": "code",
      "metadata": {
        "id": "5da2adr8fl6T",
        "colab_type": "code",
        "colab": {},
        "outputId": "d16b0b20-b657-423a-ab83-22ced8480730"
      },
      "source": [
        "import numpy as np\n",
        "np.random.seed(0)\n",
        "\n",
        "def compute_reciprocals(values):\n",
        "    output = np.empty(len(values))\n",
        "    for i in range(len(values)):\n",
        "        output[i] = 1.0 / values[i]\n",
        "    return output\n",
        "        \n",
        "values = np.random.randint(1, 10, size=5)\n",
        "compute_reciprocals(values)"
      ],
      "execution_count": 0,
      "outputs": [
        {
          "output_type": "execute_result",
          "data": {
            "text/plain": [
              "array([ 0.16666667,  1.        ,  0.25      ,  0.25      ,  0.125     ])"
            ]
          },
          "metadata": {
            "tags": []
          },
          "execution_count": 1
        }
      ]
    },
    {
      "cell_type": "code",
      "metadata": {
        "id": "udPUoIxDfl6e",
        "colab_type": "code",
        "colab": {},
        "outputId": "349c050e-6792-4f4b-e5af-022ca1f5d40e"
      },
      "source": [
        "big_array = np.random.randint(1, 100, size=1000000)\n",
        "%timeit compute_reciprocals(big_array)"
      ],
      "execution_count": 0,
      "outputs": [
        {
          "output_type": "stream",
          "text": [
            "1 loop, best of 3: 2.91 s per loop\n"
          ],
          "name": "stdout"
        }
      ]
    },
    {
      "cell_type": "markdown",
      "metadata": {
        "id": "C_NbJ-iLfl6i",
        "colab_type": "text"
      },
      "source": [
        "## UFuncs\n",
        "\n",
        "Operaciones *vectorizadas*"
      ]
    },
    {
      "cell_type": "code",
      "metadata": {
        "id": "8Xv9BpiOfl6k",
        "colab_type": "code",
        "colab": {},
        "outputId": "e5e769d0-fa60-4911-fb03-bb540fa34fa8"
      },
      "source": [
        "print(compute_reciprocals(values))\n",
        "print(1.0 / values)"
      ],
      "execution_count": 0,
      "outputs": [
        {
          "output_type": "stream",
          "text": [
            "[ 0.16666667  1.          0.25        0.25        0.125     ]\n",
            "[ 0.16666667  1.          0.25        0.25        0.125     ]\n"
          ],
          "name": "stdout"
        }
      ]
    },
    {
      "cell_type": "code",
      "metadata": {
        "id": "ULqBf-AIfl6p",
        "colab_type": "code",
        "colab": {},
        "outputId": "5c165e72-5556-4b69-99a6-41db47457805"
      },
      "source": [
        "%timeit (1.0 / big_array)"
      ],
      "execution_count": 0,
      "outputs": [
        {
          "output_type": "stream",
          "text": [
            "100 loops, best of 3: 4.6 ms per loop\n"
          ],
          "name": "stdout"
        }
      ]
    },
    {
      "cell_type": "code",
      "metadata": {
        "id": "z31u8BYKfl6u",
        "colab_type": "code",
        "colab": {},
        "outputId": "9e160007-b826-44ce-de8c-11926d8e3397"
      },
      "source": [
        "np.arange(5) / np.arange(1, 6)"
      ],
      "execution_count": 0,
      "outputs": [
        {
          "output_type": "execute_result",
          "data": {
            "text/plain": [
              "array([ 0.        ,  0.5       ,  0.66666667,  0.75      ,  0.8       ])"
            ]
          },
          "metadata": {
            "tags": []
          },
          "execution_count": 5
        }
      ]
    },
    {
      "cell_type": "code",
      "metadata": {
        "id": "ukwwgvVDfl62",
        "colab_type": "code",
        "colab": {},
        "outputId": "6dc15e25-0281-48c2-9580-e10d0c1f349b"
      },
      "source": [
        "x = np.arange(9).reshape((3, 3))\n",
        "2 ** x"
      ],
      "execution_count": 0,
      "outputs": [
        {
          "output_type": "execute_result",
          "data": {
            "text/plain": [
              "array([[  1,   2,   4],\n",
              "       [  8,  16,  32],\n",
              "       [ 64, 128, 256]])"
            ]
          },
          "metadata": {
            "tags": []
          },
          "execution_count": 6
        }
      ]
    },
    {
      "cell_type": "markdown",
      "metadata": {
        "id": "TrRiw16pfl67",
        "colab_type": "text"
      },
      "source": [
        "Cálculos usando vectorizacion a través de ufuncs son en general más eficientes que la implementación usando loops"
      ]
    },
    {
      "cell_type": "markdown",
      "metadata": {
        "id": "zBy96HTOfl68",
        "colab_type": "text"
      },
      "source": [
        "## Exploración de UFuncs\n",
        "\n",
        "Ufuncs: \n",
        "- *unary ufuncs*, operan sobre una sola entrada \n",
        "- *binary ufuncs*, operan sobre dos entradas."
      ]
    },
    {
      "cell_type": "markdown",
      "metadata": {
        "id": "3IzoNLpFfl69",
        "colab_type": "text"
      },
      "source": [
        "### Aritmética de Array \n",
        "\n",
        "Las operaciones aritméticas de adición, substracción, multiplicación y división standard:"
      ]
    },
    {
      "cell_type": "code",
      "metadata": {
        "id": "ewbb9fYPfl6-",
        "colab_type": "code",
        "colab": {},
        "outputId": "d189e631-7a65-4a35-efa2-b475bcd19908"
      },
      "source": [
        "x = np.arange(4)\n",
        "print(\"x     =\", x)\n",
        "print(\"x + 5 =\", x + 5)\n",
        "print(\"x - 5 =\", x - 5)\n",
        "print(\"x * 2 =\", x * 2)\n",
        "print(\"x / 2 =\", x / 2)\n",
        "print(\"x // 2 =\", x // 2)  # floor division"
      ],
      "execution_count": 0,
      "outputs": [
        {
          "output_type": "stream",
          "text": [
            "x     = [0 1 2 3]\n",
            "x + 5 = [5 6 7 8]\n",
            "x - 5 = [-5 -4 -3 -2]\n",
            "x * 2 = [0 2 4 6]\n",
            "x / 2 = [ 0.   0.5  1.   1.5]\n",
            "x // 2 = [0 0 1 1]\n"
          ],
          "name": "stdout"
        }
      ]
    },
    {
      "cell_type": "markdown",
      "metadata": {
        "id": "nSh_jJDyfl7D",
        "colab_type": "text"
      },
      "source": [
        "Negation, operador de exponencia ``**`` y operador de módulo ``%``:"
      ]
    },
    {
      "cell_type": "code",
      "metadata": {
        "id": "qQ-K-XJRfl7F",
        "colab_type": "code",
        "colab": {},
        "outputId": "4b5cd5da-3771-4f36-d3e8-2c49597f4ce0"
      },
      "source": [
        "print(\"-x     = \", -x)\n",
        "print(\"x ** 2 = \", x ** 2)\n",
        "print(\"x % 2  = \", x % 2)"
      ],
      "execution_count": 0,
      "outputs": [
        {
          "output_type": "stream",
          "text": [
            "-x     =  [ 0 -1 -2 -3]\n",
            "x ** 2 =  [0 1 4 9]\n",
            "x % 2  =  [0 1 0 1]\n"
          ],
          "name": "stdout"
        }
      ]
    },
    {
      "cell_type": "markdown",
      "metadata": {
        "id": "RWhmtfYVfl7K",
        "colab_type": "text"
      },
      "source": [
        "Orden standard de las operaciones:"
      ]
    },
    {
      "cell_type": "code",
      "metadata": {
        "id": "wFkp0-Zmfl7L",
        "colab_type": "code",
        "colab": {},
        "outputId": "9b863403-31e9-4671-da1d-43bda5c5c6ff"
      },
      "source": [
        "-(0.5*x + 1) ** 2"
      ],
      "execution_count": 0,
      "outputs": [
        {
          "output_type": "execute_result",
          "data": {
            "text/plain": [
              "array([-1.  , -2.25, -4.  , -6.25])"
            ]
          },
          "metadata": {
            "tags": []
          },
          "execution_count": 9
        }
      ]
    },
    {
      "cell_type": "markdown",
      "metadata": {
        "id": "_sHaq_DKfl7P",
        "colab_type": "text"
      },
      "source": [
        "El operador ``+`` es un wrapper para la función ``add``:"
      ]
    },
    {
      "cell_type": "code",
      "metadata": {
        "id": "CBCqagfPfl7R",
        "colab_type": "code",
        "colab": {},
        "outputId": "bdeef74d-7817-496b-a5b5-f4bce39a7a04"
      },
      "source": [
        "np.add(x, 2)"
      ],
      "execution_count": 0,
      "outputs": [
        {
          "output_type": "execute_result",
          "data": {
            "text/plain": [
              "array([2, 3, 4, 5])"
            ]
          },
          "metadata": {
            "tags": []
          },
          "execution_count": 10
        }
      ]
    },
    {
      "cell_type": "markdown",
      "metadata": {
        "id": "rHx8_Hj-fl7U",
        "colab_type": "text"
      },
      "source": [
        "The siguiente tabla enlista los operadores aritméticos implementados en NumPy:\n",
        "\n",
        "| Operator\t    | Equivalent ufunc    | Description                           |\n",
        "|---------------|---------------------|---------------------------------------|\n",
        "|``+``          |``np.add``           |Addition (e.g., ``1 + 1 = 2``)         |\n",
        "|``-``          |``np.subtract``      |Subtraction (e.g., ``3 - 2 = 1``)      |\n",
        "|``-``          |``np.negative``      |Unary negation (e.g., ``-2``)          |\n",
        "|``*``          |``np.multiply``      |Multiplication (e.g., ``2 * 3 = 6``)   |\n",
        "|``/``          |``np.divide``        |Division (e.g., ``3 / 2 = 1.5``)       |\n",
        "|``//``         |``np.floor_divide``  |Floor division (e.g., ``3 // 2 = 1``)  |\n",
        "|``**``         |``np.power``         |Exponentiation (e.g., ``2 ** 3 = 8``)  |\n",
        "|``%``          |``np.mod``           |Modulus/remainder (e.g., ``9 % 4 = 1``)|\n",
        "\n",
        "Adicionalmente, hay operadores Boolean; exploraremos éstos en [Comparaciones, mascaras y logica booleana](01.06-Boolean-Arrays-and-Masks.ipynb)."
      ]
    },
    {
      "cell_type": "markdown",
      "metadata": {
        "id": "eEH6s6A8fl7W",
        "colab_type": "text"
      },
      "source": [
        "### Valor Absoluto\n"
      ]
    },
    {
      "cell_type": "code",
      "metadata": {
        "id": "YmRmpAxkfl7X",
        "colab_type": "code",
        "colab": {},
        "outputId": "dccdf5d3-2655-46fe-ecc6-41557d69074d"
      },
      "source": [
        "# Python abs\n",
        "x = np.array([-2, -1, 0, 1, 2])\n",
        "abs(x)"
      ],
      "execution_count": 0,
      "outputs": [
        {
          "output_type": "execute_result",
          "data": {
            "text/plain": [
              "array([2, 1, 0, 1, 2])"
            ]
          },
          "metadata": {
            "tags": []
          },
          "execution_count": 11
        }
      ]
    },
    {
      "cell_type": "code",
      "metadata": {
        "id": "43GY8t0mfl7f",
        "colab_type": "code",
        "colab": {},
        "outputId": "02f3c91e-c6b0-4e47-a592-411bbcb0640a"
      },
      "source": [
        "np.absolute(x)"
      ],
      "execution_count": 0,
      "outputs": [
        {
          "output_type": "execute_result",
          "data": {
            "text/plain": [
              "array([2, 1, 0, 1, 2])"
            ]
          },
          "metadata": {
            "tags": []
          },
          "execution_count": 12
        }
      ]
    },
    {
      "cell_type": "code",
      "metadata": {
        "id": "hicCUslrfl7j",
        "colab_type": "code",
        "colab": {},
        "outputId": "f140f4a5-0ce6-426a-d248-fcb9b77fd34c"
      },
      "source": [
        "np.abs(x)"
      ],
      "execution_count": 0,
      "outputs": [
        {
          "output_type": "execute_result",
          "data": {
            "text/plain": [
              "array([2, 1, 0, 1, 2])"
            ]
          },
          "metadata": {
            "tags": []
          },
          "execution_count": 13
        }
      ]
    },
    {
      "cell_type": "markdown",
      "metadata": {
        "id": "hIXahasffl7n",
        "colab_type": "text"
      },
      "source": [
        "Esta ufunc puede operar sobre números complejos:"
      ]
    },
    {
      "cell_type": "code",
      "metadata": {
        "id": "bOj0d4lbfl7p",
        "colab_type": "code",
        "colab": {},
        "outputId": "f02362b5-c7ac-4505-fc7d-9cf0f1cfab72"
      },
      "source": [
        "x = np.array([3 - 4j, 4 - 3j, 2 + 0j, 0 + 1j])\n",
        "np.abs(x)"
      ],
      "execution_count": 0,
      "outputs": [
        {
          "output_type": "execute_result",
          "data": {
            "text/plain": [
              "array([ 5.,  5.,  2.,  1.])"
            ]
          },
          "metadata": {
            "tags": []
          },
          "execution_count": 14
        }
      ]
    },
    {
      "cell_type": "markdown",
      "metadata": {
        "id": "kY8_5t6pfl7t",
        "colab_type": "text"
      },
      "source": [
        "### Funciones Trigonometricas\n"
      ]
    },
    {
      "cell_type": "code",
      "metadata": {
        "id": "VZVNXZfIfl7u",
        "colab_type": "code",
        "colab": {}
      },
      "source": [
        "theta = np.linspace(0, np.pi, 3)"
      ],
      "execution_count": 0,
      "outputs": []
    },
    {
      "cell_type": "code",
      "metadata": {
        "id": "L3AgO6L7fl71",
        "colab_type": "code",
        "colab": {},
        "outputId": "6f380b70-4409-433d-ef21-47e93affa81f"
      },
      "source": [
        "print(\"theta      = \", theta)\n",
        "print(\"sin(theta) = \", np.sin(theta))\n",
        "print(\"cos(theta) = \", np.cos(theta))\n",
        "print(\"tan(theta) = \", np.tan(theta))"
      ],
      "execution_count": 0,
      "outputs": [
        {
          "output_type": "stream",
          "text": [
            "theta      =  [ 0.          1.57079633  3.14159265]\n",
            "sin(theta) =  [  0.00000000e+00   1.00000000e+00   1.22464680e-16]\n",
            "cos(theta) =  [  1.00000000e+00   6.12323400e-17  -1.00000000e+00]\n",
            "tan(theta) =  [  0.00000000e+00   1.63312394e+16  -1.22464680e-16]\n"
          ],
          "name": "stdout"
        }
      ]
    },
    {
      "cell_type": "code",
      "metadata": {
        "id": "SWkuKASjfl8A",
        "colab_type": "code",
        "colab": {},
        "outputId": "6654818b-7058-47a7-c4f5-4ce6253a427e"
      },
      "source": [
        "x = [-1, 0, 1]\n",
        "print(\"x         = \", x)\n",
        "print(\"arcsin(x) = \", np.arcsin(x))\n",
        "print(\"arccos(x) = \", np.arccos(x))\n",
        "print(\"arctan(x) = \", np.arctan(x))"
      ],
      "execution_count": 0,
      "outputs": [
        {
          "output_type": "stream",
          "text": [
            "x         =  [-1, 0, 1]\n",
            "arcsin(x) =  [-1.57079633  0.          1.57079633]\n",
            "arccos(x) =  [ 3.14159265  1.57079633  0.        ]\n",
            "arctan(x) =  [-0.78539816  0.          0.78539816]\n"
          ],
          "name": "stdout"
        }
      ]
    },
    {
      "cell_type": "markdown",
      "metadata": {
        "id": "WOIMTgYKfl8N",
        "colab_type": "text"
      },
      "source": [
        "### Exponentes y Logaritmos\n"
      ]
    },
    {
      "cell_type": "code",
      "metadata": {
        "id": "RKT1XhQ3fl8P",
        "colab_type": "code",
        "colab": {},
        "outputId": "b412f940-8bd0-4db6-82b7-f8bfcdb9babc"
      },
      "source": [
        "x = [1, 2, 3]\n",
        "print(\"x     =\", x)\n",
        "print(\"e^x   =\", np.exp(x))\n",
        "print(\"2^x   =\", np.exp2(x))\n",
        "print(\"3^x   =\", np.power(3, x))"
      ],
      "execution_count": 0,
      "outputs": [
        {
          "output_type": "stream",
          "text": [
            "x     = [1, 2, 3]\n",
            "e^x   = [  2.71828183   7.3890561   20.08553692]\n",
            "2^x   = [ 2.  4.  8.]\n",
            "3^x   = [ 3  9 27]\n"
          ],
          "name": "stdout"
        }
      ]
    },
    {
      "cell_type": "code",
      "metadata": {
        "id": "AtMrl3okfl8V",
        "colab_type": "code",
        "colab": {},
        "outputId": "7796854d-2798-49c3-e81d-c0bddac12f58"
      },
      "source": [
        "x = [1, 2, 4, 10]\n",
        "print(\"x        =\", x)\n",
        "print(\"ln(x)    =\", np.log(x))\n",
        "print(\"log2(x)  =\", np.log2(x))\n",
        "print(\"log10(x) =\", np.log10(x))"
      ],
      "execution_count": 0,
      "outputs": [
        {
          "output_type": "stream",
          "text": [
            "x        = [1, 2, 4, 10]\n",
            "ln(x)    = [ 0.          0.69314718  1.38629436  2.30258509]\n",
            "log2(x)  = [ 0.          1.          2.          3.32192809]\n",
            "log10(x) = [ 0.          0.30103     0.60205999  1.        ]\n"
          ],
          "name": "stdout"
        }
      ]
    },
    {
      "cell_type": "code",
      "metadata": {
        "id": "dZLkmk3tfl8Z",
        "colab_type": "code",
        "colab": {},
        "outputId": "a01f6b7f-3e47-485d-b2e3-e30c3776717f"
      },
      "source": [
        "# for small input\n",
        "x = [0, 0.001, 0.01, 0.1]\n",
        "print(\"exp(x) - 1 =\", np.expm1(x))\n",
        "print(\"log(1 + x) =\", np.log1p(x))"
      ],
      "execution_count": 0,
      "outputs": [
        {
          "output_type": "stream",
          "text": [
            "exp(x) - 1 = [ 0.          0.0010005   0.01005017  0.10517092]\n",
            "log(1 + x) = [ 0.          0.0009995   0.00995033  0.09531018]\n"
          ],
          "name": "stdout"
        }
      ]
    },
    {
      "cell_type": "markdown",
      "metadata": {
        "id": "yfzAtleifl8h",
        "colab_type": "text"
      },
      "source": [
        "### Ufuncs especializadas\n"
      ]
    },
    {
      "cell_type": "code",
      "metadata": {
        "id": "H9XcUUGQfl8j",
        "colab_type": "code",
        "colab": {}
      },
      "source": [
        "from scipy import special"
      ],
      "execution_count": 0,
      "outputs": []
    },
    {
      "cell_type": "code",
      "metadata": {
        "id": "Se2lP0B9fl8m",
        "colab_type": "code",
        "colab": {},
        "outputId": "5197618b-ae61-45e4-b9f9-d1dff92dd07c"
      },
      "source": [
        "# Gamma functions (generalized factorials) and related functions\n",
        "x = [1, 5, 10]\n",
        "print(\"gamma(x)     =\", special.gamma(x))\n",
        "print(\"ln|gamma(x)| =\", special.gammaln(x))\n",
        "print(\"beta(x, 2)   =\", special.beta(x, 2))"
      ],
      "execution_count": 0,
      "outputs": [
        {
          "output_type": "stream",
          "text": [
            "gamma(x)     = [  1.00000000e+00   2.40000000e+01   3.62880000e+05]\n",
            "ln|gamma(x)| = [  0.           3.17805383  12.80182748]\n",
            "beta(x, 2)   = [ 0.5         0.03333333  0.00909091]\n"
          ],
          "name": "stdout"
        }
      ]
    },
    {
      "cell_type": "code",
      "metadata": {
        "id": "DPeH889dfl8p",
        "colab_type": "code",
        "colab": {},
        "outputId": "5d6aec02-ab62-4cb8-d370-320ac2529808"
      },
      "source": [
        "# Error function (integral of Gaussian)\n",
        "# its complement, and its inverse\n",
        "x = np.array([0, 0.3, 0.7, 1.0])\n",
        "print(\"erf(x)  =\", special.erf(x))\n",
        "print(\"erfc(x) =\", special.erfc(x))\n",
        "print(\"erfinv(x) =\", special.erfinv(x))"
      ],
      "execution_count": 0,
      "outputs": [
        {
          "output_type": "stream",
          "text": [
            "erf(x)  = [ 0.          0.32862676  0.67780119  0.84270079]\n",
            "erfc(x) = [ 1.          0.67137324  0.32219881  0.15729921]\n",
            "erfinv(x) = [ 0.          0.27246271  0.73286908         inf]\n"
          ],
          "name": "stdout"
        }
      ]
    },
    {
      "cell_type": "markdown",
      "metadata": {
        "id": "C1LqJt_Cfl8t",
        "colab_type": "text"
      },
      "source": [
        "## Propiedades Avanzadas de Ufunc \n"
      ]
    },
    {
      "cell_type": "markdown",
      "metadata": {
        "id": "BjGt-52ifl8u",
        "colab_type": "text"
      },
      "source": [
        "### Especificando la salida\n",
        "\n",
        "Todas las ufuncs pueden usar el argumento ``out`` para indicar donde asignar el resultado"
      ]
    },
    {
      "cell_type": "code",
      "metadata": {
        "id": "g35Wb5vEfl8v",
        "colab_type": "code",
        "colab": {},
        "outputId": "da76cf5c-10c4-48d4-d95a-072739a6d704"
      },
      "source": [
        "x = np.arange(5)\n",
        "y = np.empty(5)\n",
        "np.multiply(x, 10, out=y)\n",
        "print(y)"
      ],
      "execution_count": 0,
      "outputs": [
        {
          "output_type": "stream",
          "text": [
            "[  0.  10.  20.  30.  40.]\n"
          ],
          "name": "stdout"
        }
      ]
    },
    {
      "cell_type": "code",
      "metadata": {
        "id": "CNPMLGmNfl80",
        "colab_type": "code",
        "colab": {},
        "outputId": "d5e5679e-0067-420f-ce64-07fad3747305"
      },
      "source": [
        "y = np.zeros(10)\n",
        "np.power(2, x, out=y[::2])\n",
        "print(y)"
      ],
      "execution_count": 0,
      "outputs": [
        {
          "output_type": "stream",
          "text": [
            "[  1.   0.   2.   0.   4.   0.   8.   0.  16.   0.]\n"
          ],
          "name": "stdout"
        }
      ]
    },
    {
      "cell_type": "code",
      "metadata": {
        "id": "7mrvzaN8fl84",
        "colab_type": "code",
        "colab": {}
      },
      "source": [
        "# lo mismo pero crea un array temporal para guardar el resultado de 2**x, \n",
        "# seguido de una segunda operacion que copia esos valores a y \n",
        "# que puede ser costoso para arrays grandes\n",
        "y = np.zeros(10)\n",
        "y[::2] = 2**x"
      ],
      "execution_count": 0,
      "outputs": []
    },
    {
      "cell_type": "markdown",
      "metadata": {
        "id": "Vv6V8c6afl88",
        "colab_type": "text"
      },
      "source": [
        "### Agregaciones\n"
      ]
    },
    {
      "cell_type": "code",
      "metadata": {
        "id": "RQIgaQxlfl89",
        "colab_type": "code",
        "colab": {},
        "outputId": "2b39d56a-a931-4b26-fb12-a290a42e5562"
      },
      "source": [
        "x = np.arange(1, 6)\n",
        "np.add.reduce(x)"
      ],
      "execution_count": 0,
      "outputs": [
        {
          "output_type": "execute_result",
          "data": {
            "text/plain": [
              "15"
            ]
          },
          "metadata": {
            "tags": []
          },
          "execution_count": 26
        }
      ]
    },
    {
      "cell_type": "code",
      "metadata": {
        "id": "boKhnFf9fl9A",
        "colab_type": "code",
        "colab": {},
        "outputId": "63fb605f-bd6d-4336-deeb-6e102b7b2b54"
      },
      "source": [
        "np.multiply.reduce(x)"
      ],
      "execution_count": 0,
      "outputs": [
        {
          "output_type": "execute_result",
          "data": {
            "text/plain": [
              "120"
            ]
          },
          "metadata": {
            "tags": []
          },
          "execution_count": 27
        }
      ]
    },
    {
      "cell_type": "code",
      "metadata": {
        "id": "RLzLXOa4fl9D",
        "colab_type": "code",
        "colab": {},
        "outputId": "45a88e45-b639-47e5-b079-a512e435f5bf"
      },
      "source": [
        "np.add.accumulate(x)"
      ],
      "execution_count": 0,
      "outputs": [
        {
          "output_type": "execute_result",
          "data": {
            "text/plain": [
              "array([ 1,  3,  6, 10, 15])"
            ]
          },
          "metadata": {
            "tags": []
          },
          "execution_count": 28
        }
      ]
    },
    {
      "cell_type": "code",
      "metadata": {
        "id": "wAIXjcqwfl9I",
        "colab_type": "code",
        "colab": {},
        "outputId": "d39fdbb4-1717-4fa8-88cf-b6661434d3ae"
      },
      "source": [
        "np.multiply.accumulate(x)"
      ],
      "execution_count": 0,
      "outputs": [
        {
          "output_type": "execute_result",
          "data": {
            "text/plain": [
              "array([  1,   2,   6,  24, 120])"
            ]
          },
          "metadata": {
            "tags": []
          },
          "execution_count": 29
        }
      ]
    },
    {
      "cell_type": "markdown",
      "metadata": {
        "id": "P-bmXroIfl9O",
        "colab_type": "text"
      },
      "source": [
        "Exploraremos un poco mas en [Agregaciones: Min, Max, etc.](01.04-Computation-on-arrays-aggregates.ipynb)."
      ]
    },
    {
      "cell_type": "markdown",
      "metadata": {
        "id": "73DPUzu2fl9S",
        "colab_type": "text"
      },
      "source": [
        "### Productos exteriores\n"
      ]
    },
    {
      "cell_type": "code",
      "metadata": {
        "scrolled": true,
        "id": "jXuJzpV-fl9V",
        "colab_type": "code",
        "colab": {},
        "outputId": "173a667a-b655-4c3b-9511-95e73b9c6843"
      },
      "source": [
        "x = np.arange(1, 6)\n",
        "np.multiply.outer(x, x)"
      ],
      "execution_count": 0,
      "outputs": [
        {
          "output_type": "execute_result",
          "data": {
            "text/plain": [
              "array([[ 1,  2,  3,  4,  5],\n",
              "       [ 2,  4,  6,  8, 10],\n",
              "       [ 3,  6,  9, 12, 15],\n",
              "       [ 4,  8, 12, 16, 20],\n",
              "       [ 5, 10, 15, 20, 25]])"
            ]
          },
          "metadata": {
            "tags": []
          },
          "execution_count": 30
        }
      ]
    },
    {
      "cell_type": "markdown",
      "metadata": {
        "id": "u_Rw-ll4fl9Y",
        "colab_type": "text"
      },
      "source": [
        "Otros métodos se exploran en [Más índices](01.07-Fancy-Indexing.ipynb),asi como la habilidad de operar entre arrays de distintos tamaños y formas, llamado *broadcasting*, que se ve en [Calculos con Arrays 2. Broadcasting](01.05-Computation-on-arrays-broadcasting.ipynb)."
      ]
    },
    {
      "cell_type": "markdown",
      "metadata": {
        "id": "3fjXa-5cfl9Z",
        "colab_type": "text"
      },
      "source": [
        "## Ufuncs: Más información"
      ]
    },
    {
      "cell_type": "markdown",
      "metadata": {
        "id": "8hWacssKfl9a",
        "colab_type": "text"
      },
      "source": [
        "Más información sobre las funciones universales puede consultarse en la documentación de [NumPy](http://www.numpy.org) y [SciPy](http://www.scipy.org)."
      ]
    },
    {
      "cell_type": "markdown",
      "metadata": {
        "id": "Vx7a-gu1fl9c",
        "colab_type": "text"
      },
      "source": [
        "<!--NAVIGATION-->\n",
        "< [Basicos de NumPy: arreglos](01.02-The-Basics-Of-NumPy-Arrays.ipynb) | [Contenido](Index.ipynb) | [Agregaciones: Min, Max, etc.](01.04-Computation-on-arrays-aggregates.ipynb) >\n",
        "\n",
        "<a href=\"https://colab.research.google.com/github/htapia/TallerPythonIntroCienciaDatos/blob/master/notebooks/01.03-Computation-on-arrays-ufuncs.ipynb\"><img align=\"left\" src=\"https://colab.research.google.com/assets/colab-badge.svg\" alt=\"Open in Colab\" title=\"Open and Execute in Google Colaboratory\"></a>\n"
      ]
    }
  ]
}